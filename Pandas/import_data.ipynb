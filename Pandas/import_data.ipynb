{
 "cells": [
  {
   "cell_type": "code",
   "execution_count": 58,
   "id": "2f010c7c",
   "metadata": {},
   "outputs": [],
   "source": [
    "import pandas\n",
    "from geopy.geocoders import Nominatim"
   ]
  },
  {
   "cell_type": "code",
   "execution_count": 55,
   "id": "b2d58a21",
   "metadata": {},
   "outputs": [
    {
     "data": {
      "text/plain": [
       "['supermarkets.csv',\n",
       " 'supermarkets.json',\n",
       " 'supermarkets-commas.txt',\n",
       " 'supermarkets.xlsx',\n",
       " 'supermarkets-semi-colons.txt']"
      ]
     },
     "execution_count": 55,
     "metadata": {},
     "output_type": "execute_result"
    }
   ],
   "source": [
    "# list files inside data directory\n",
    "import os\n",
    "os.listdir(\"data\")"
   ]
  },
  {
   "cell_type": "code",
   "execution_count": null,
   "id": "a007f125",
   "metadata": {},
   "outputs": [],
   "source": [
    "# load csv data:\n",
    "df1 = pandas.read_csv('data/supermarkets.csv')\n",
    "df2 = pandas.read_json('data/supermarkets.json')\n",
    "df3 = pandas.read_csv('data/supermarkets-commas.txt')\n",
    "df4 = pandas.read_csv('data/supermarkets-semi-colons.txt', sep=';')"
   ]
  },
  {
   "cell_type": "code",
   "execution_count": 74,
   "id": "f191dfa5",
   "metadata": {},
   "outputs": [
    {
     "data": {
      "text/plain": [
       "geopy.location.Location"
      ]
     },
     "execution_count": 74,
     "metadata": {},
     "output_type": "execute_result"
    }
   ],
   "source": [
    "# Example Geocoding Addresses with Pandas and Geopy\n",
    "# Convert a string to location\n",
    "# dir(geopy)\n",
    "\n",
    "nom = Nominatim(user_agent=\"first_botebook.ipynb\")\n",
    "location = nom.geocode(\"175 5th Avenue NYC\")\n",
    "location.longitude\n",
    "type(location)"
   ]
  }
 ],
 "metadata": {
  "kernelspec": {
   "display_name": "Python 3.9.5 ('.venv': venv)",
   "language": "python",
   "name": "python3"
  },
  "language_info": {
   "codemirror_mode": {
    "name": "ipython",
    "version": 3
   },
   "file_extension": ".py",
   "mimetype": "text/x-python",
   "name": "python",
   "nbconvert_exporter": "python",
   "pygments_lexer": "ipython3",
   "version": "3.9.5"
  },
  "vscode": {
   "interpreter": {
    "hash": "6940c71478dcf17f3ce2cef42cfb31d23032bcc5e2fa7db7218323cbce5ee74e"
   }
  }
 },
 "nbformat": 4,
 "nbformat_minor": 5
}
